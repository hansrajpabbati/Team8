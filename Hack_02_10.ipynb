{
 "cells": [
  {
   "cell_type": "code",
   "execution_count": 43,
   "metadata": {},
   "outputs": [],
   "source": [
    "import pandas as pd \n",
    "import numpy as np\n",
    "from surprise import Dataset\n",
    "import warnings\n",
    "import operator\n",
    "import math\n",
    "warnings.filterwarnings('ignore')"
   ]
  },
  {
   "cell_type": "code",
   "execution_count": 44,
   "metadata": {},
   "outputs": [],
   "source": [
    "#Full Name\tStudent ID\tFirst\tLast\tCohort\tEvening\tLocation\tPhone Number\tEmail\tCareer Interests for Matching\tAttendance\tModule Score\tProject Score\tBonus\tTotal Score\n"
   ]
  },
  {
   "cell_type": "code",
   "execution_count": 46,
   "metadata": {},
   "outputs": [],
   "source": [
    "df_st_mat = pd.read_csv(\"stu_matBig.csv\")\n"
   ]
  },
  {
   "cell_type": "code",
   "execution_count": 47,
   "metadata": {},
   "outputs": [],
   "source": [
    "df_st_mat = df_st_mat.replace(to_replace = np.nan,  value=0)"
   ]
  },
  {
   "cell_type": "code",
   "execution_count": 48,
   "metadata": {},
   "outputs": [
    {
     "data": {
      "text/html": [
       "<div>\n",
       "<style scoped>\n",
       "    .dataframe tbody tr th:only-of-type {\n",
       "        vertical-align: middle;\n",
       "    }\n",
       "\n",
       "    .dataframe tbody tr th {\n",
       "        vertical-align: top;\n",
       "    }\n",
       "\n",
       "    .dataframe thead th {\n",
       "        text-align: right;\n",
       "    }\n",
       "</style>\n",
       "<table border=\"1\" class=\"dataframe\">\n",
       "  <thead>\n",
       "    <tr style=\"text-align: right;\">\n",
       "      <th></th>\n",
       "      <th>Student</th>\n",
       "      <th>ID</th>\n",
       "      <th>Human Resources</th>\n",
       "      <th>Management</th>\n",
       "      <th>Public Relations</th>\n",
       "      <th>Communications</th>\n",
       "      <th>Software</th>\n",
       "      <th>Health</th>\n",
       "      <th>Education</th>\n",
       "      <th>Finance</th>\n",
       "      <th>Business</th>\n",
       "    </tr>\n",
       "  </thead>\n",
       "  <tbody>\n",
       "    <tr>\n",
       "      <th>0</th>\n",
       "      <td>Adam Ababneh</td>\n",
       "      <td>1</td>\n",
       "      <td>0.0</td>\n",
       "      <td>0.0</td>\n",
       "      <td>1.0</td>\n",
       "      <td>0.0</td>\n",
       "      <td>1.0</td>\n",
       "      <td>0.0</td>\n",
       "      <td>0.0</td>\n",
       "      <td>0.0</td>\n",
       "      <td>0.0</td>\n",
       "    </tr>\n",
       "    <tr>\n",
       "      <th>1</th>\n",
       "      <td>Akhil Modali</td>\n",
       "      <td>2</td>\n",
       "      <td>0.0</td>\n",
       "      <td>1.0</td>\n",
       "      <td>0.0</td>\n",
       "      <td>1.0</td>\n",
       "      <td>0.0</td>\n",
       "      <td>0.0</td>\n",
       "      <td>1.0</td>\n",
       "      <td>0.0</td>\n",
       "      <td>0.0</td>\n",
       "    </tr>\n",
       "    <tr>\n",
       "      <th>2</th>\n",
       "      <td>Alejandra Magana</td>\n",
       "      <td>3</td>\n",
       "      <td>1.0</td>\n",
       "      <td>0.0</td>\n",
       "      <td>0.0</td>\n",
       "      <td>0.0</td>\n",
       "      <td>1.0</td>\n",
       "      <td>1.0</td>\n",
       "      <td>0.0</td>\n",
       "      <td>0.0</td>\n",
       "      <td>0.0</td>\n",
       "    </tr>\n",
       "    <tr>\n",
       "      <th>3</th>\n",
       "      <td>Alexandra Reyes</td>\n",
       "      <td>4</td>\n",
       "      <td>0.0</td>\n",
       "      <td>1.0</td>\n",
       "      <td>1.0</td>\n",
       "      <td>0.0</td>\n",
       "      <td>0.0</td>\n",
       "      <td>0.0</td>\n",
       "      <td>0.0</td>\n",
       "      <td>0.0</td>\n",
       "      <td>1.0</td>\n",
       "    </tr>\n",
       "    <tr>\n",
       "      <th>4</th>\n",
       "      <td>Angeles Chavez</td>\n",
       "      <td>5</td>\n",
       "      <td>1.0</td>\n",
       "      <td>0.0</td>\n",
       "      <td>0.0</td>\n",
       "      <td>0.0</td>\n",
       "      <td>0.0</td>\n",
       "      <td>0.0</td>\n",
       "      <td>0.0</td>\n",
       "      <td>1.0</td>\n",
       "      <td>0.0</td>\n",
       "    </tr>\n",
       "  </tbody>\n",
       "</table>\n",
       "</div>"
      ],
      "text/plain": [
       "            Student  ID  Human Resources  Management  Public Relations  \\\n",
       "0      Adam Ababneh   1              0.0         0.0               1.0   \n",
       "1      Akhil Modali   2              0.0         1.0               0.0   \n",
       "2  Alejandra Magana   3              1.0         0.0               0.0   \n",
       "3   Alexandra Reyes   4              0.0         1.0               1.0   \n",
       "4    Angeles Chavez   5              1.0         0.0               0.0   \n",
       "\n",
       "   Communications  Software  Health  Education  Finance  Business  \n",
       "0             0.0       1.0     0.0        0.0      0.0       0.0  \n",
       "1             1.0       0.0     0.0        1.0      0.0       0.0  \n",
       "2             0.0       1.0     1.0        0.0      0.0       0.0  \n",
       "3             0.0       0.0     0.0        0.0      0.0       1.0  \n",
       "4             0.0       0.0     0.0        0.0      1.0       0.0  "
      ]
     },
     "execution_count": 48,
     "metadata": {},
     "output_type": "execute_result"
    }
   ],
   "source": [
    "df_st_mat.head()"
   ]
  },
  {
   "cell_type": "code",
   "execution_count": 49,
   "metadata": {},
   "outputs": [],
   "source": [
    "df_vol_mat = pd.read_csv(\"vol_matBig.csv\")\n"
   ]
  },
  {
   "cell_type": "code",
   "execution_count": 50,
   "metadata": {},
   "outputs": [],
   "source": [
    "df_vol_mat = df_vol_mat.replace(to_replace = np.nan,  value=0)"
   ]
  },
  {
   "cell_type": "code",
   "execution_count": 51,
   "metadata": {},
   "outputs": [
    {
     "data": {
      "text/html": [
       "<div>\n",
       "<style scoped>\n",
       "    .dataframe tbody tr th:only-of-type {\n",
       "        vertical-align: middle;\n",
       "    }\n",
       "\n",
       "    .dataframe tbody tr th {\n",
       "        vertical-align: top;\n",
       "    }\n",
       "\n",
       "    .dataframe thead th {\n",
       "        text-align: right;\n",
       "    }\n",
       "</style>\n",
       "<table border=\"1\" class=\"dataframe\">\n",
       "  <thead>\n",
       "    <tr style=\"text-align: right;\">\n",
       "      <th></th>\n",
       "      <th>Volunteer</th>\n",
       "      <th>ID</th>\n",
       "      <th>Human Resources</th>\n",
       "      <th>Management</th>\n",
       "      <th>Public Relations</th>\n",
       "      <th>Communications</th>\n",
       "      <th>Software</th>\n",
       "      <th>Health</th>\n",
       "      <th>Education</th>\n",
       "      <th>Finance</th>\n",
       "      <th>Business</th>\n",
       "    </tr>\n",
       "  </thead>\n",
       "  <tbody>\n",
       "    <tr>\n",
       "      <th>0</th>\n",
       "      <td>Jiaxian Cai</td>\n",
       "      <td>11111</td>\n",
       "      <td>1.0</td>\n",
       "      <td>0.0</td>\n",
       "      <td>1.0</td>\n",
       "      <td>0.0</td>\n",
       "      <td>1.0</td>\n",
       "      <td>0.0</td>\n",
       "      <td>0.0</td>\n",
       "      <td>1.0</td>\n",
       "      <td>0.0</td>\n",
       "    </tr>\n",
       "    <tr>\n",
       "      <th>1</th>\n",
       "      <td>Kevin Orlando Rodezno Polanco</td>\n",
       "      <td>11112</td>\n",
       "      <td>0.0</td>\n",
       "      <td>1.0</td>\n",
       "      <td>1.0</td>\n",
       "      <td>1.0</td>\n",
       "      <td>0.0</td>\n",
       "      <td>0.0</td>\n",
       "      <td>0.0</td>\n",
       "      <td>0.0</td>\n",
       "      <td>0.0</td>\n",
       "    </tr>\n",
       "    <tr>\n",
       "      <th>2</th>\n",
       "      <td>Allison Meyers</td>\n",
       "      <td>11113</td>\n",
       "      <td>0.0</td>\n",
       "      <td>1.0</td>\n",
       "      <td>1.0</td>\n",
       "      <td>0.0</td>\n",
       "      <td>1.0</td>\n",
       "      <td>0.0</td>\n",
       "      <td>0.0</td>\n",
       "      <td>0.0</td>\n",
       "      <td>0.0</td>\n",
       "    </tr>\n",
       "    <tr>\n",
       "      <th>3</th>\n",
       "      <td>Suzette Sandoval</td>\n",
       "      <td>11114</td>\n",
       "      <td>0.0</td>\n",
       "      <td>0.0</td>\n",
       "      <td>1.0</td>\n",
       "      <td>1.0</td>\n",
       "      <td>0.0</td>\n",
       "      <td>1.0</td>\n",
       "      <td>1.0</td>\n",
       "      <td>0.0</td>\n",
       "      <td>0.0</td>\n",
       "    </tr>\n",
       "    <tr>\n",
       "      <th>4</th>\n",
       "      <td>Dionne Gayle</td>\n",
       "      <td>11115</td>\n",
       "      <td>1.0</td>\n",
       "      <td>0.0</td>\n",
       "      <td>1.0</td>\n",
       "      <td>0.0</td>\n",
       "      <td>1.0</td>\n",
       "      <td>1.0</td>\n",
       "      <td>0.0</td>\n",
       "      <td>0.0</td>\n",
       "      <td>0.0</td>\n",
       "    </tr>\n",
       "  </tbody>\n",
       "</table>\n",
       "</div>"
      ],
      "text/plain": [
       "                       Volunteer     ID  Human Resources  Management  \\\n",
       "0                    Jiaxian Cai  11111              1.0         0.0   \n",
       "1  Kevin Orlando Rodezno Polanco  11112              0.0         1.0   \n",
       "2                 Allison Meyers  11113              0.0         1.0   \n",
       "3               Suzette Sandoval  11114              0.0         0.0   \n",
       "4                   Dionne Gayle  11115              1.0         0.0   \n",
       "\n",
       "   Public Relations  Communications  Software  Health  Education  Finance  \\\n",
       "0               1.0             0.0       1.0     0.0        0.0      1.0   \n",
       "1               1.0             1.0       0.0     0.0        0.0      0.0   \n",
       "2               1.0             0.0       1.0     0.0        0.0      0.0   \n",
       "3               1.0             1.0       0.0     1.0        1.0      0.0   \n",
       "4               1.0             0.0       1.0     1.0        0.0      0.0   \n",
       "\n",
       "   Business  \n",
       "0       0.0  \n",
       "1       0.0  \n",
       "2       0.0  \n",
       "3       0.0  \n",
       "4       0.0  "
      ]
     },
     "execution_count": 51,
     "metadata": {},
     "output_type": "execute_result"
    }
   ],
   "source": [
    "df_vol_mat.head()"
   ]
  },
  {
   "cell_type": "code",
   "execution_count": 52,
   "metadata": {},
   "outputs": [],
   "source": [
    "vol_tuple= []\n",
    "for i in range (len(df_vol_mat)):\n",
    "    vol_tuple.append(df_vol_mat.loc[i][1:])"
   ]
  },
  {
   "cell_type": "code",
   "execution_count": 53,
   "metadata": {},
   "outputs": [
    {
     "data": {
      "text/plain": [
       "array([[11111, 1.0, 0.0, 1.0, 0.0, 1.0, 0.0, 0.0, 1.0, 0.0],\n",
       "       [11112, 0.0, 1.0, 1.0, 1.0, 0.0, 0.0, 0.0, 0.0, 0.0],\n",
       "       [11113, 0.0, 1.0, 1.0, 0.0, 1.0, 0.0, 0.0, 0.0, 0.0],\n",
       "       [11114, 0.0, 0.0, 1.0, 1.0, 0.0, 1.0, 1.0, 0.0, 0.0],\n",
       "       [11115, 1.0, 0.0, 1.0, 0.0, 1.0, 1.0, 0.0, 0.0, 0.0],\n",
       "       [11116, 0.0, 1.0, 1.0, 1.0, 0.0, 1.0, 0.0, 0.0, 0.0],\n",
       "       [11117, 1.0, 1.0, 0.0, 0.0, 1.0, 0.0, 1.0, 0.0, 1.0],\n",
       "       [11118, 0.0, 1.0, 0.0, 1.0, 0.0, 1.0, 1.0, 1.0, 0.0],\n",
       "       [11119, 1.0, 1.0, 0.0, 1.0, 0.0, 1.0, 0.0, 1.0, 0.0]], dtype=object)"
      ]
     },
     "execution_count": 53,
     "metadata": {},
     "output_type": "execute_result"
    }
   ],
   "source": [
    "np.asarray(vol_tuple)"
   ]
  },
  {
   "cell_type": "markdown",
   "metadata": {},
   "source": [
    "# Volunteer Jaccard Array"
   ]
  },
  {
   "cell_type": "code",
   "execution_count": 54,
   "metadata": {},
   "outputs": [
    {
     "name": "stdout",
     "output_type": "stream",
     "text": [
      "[[11111 1.0 0.0 1.0 0.0 1.0 0.0 0.0 1.0 0.0]\n",
      " [11112 0.0 1.0 1.0 1.0 0.0 0.0 0.0 0.0 0.0]\n",
      " [11113 0.0 1.0 1.0 0.0 1.0 0.0 0.0 0.0 0.0]\n",
      " [11114 0.0 0.0 1.0 1.0 0.0 1.0 1.0 0.0 0.0]\n",
      " [11115 1.0 0.0 1.0 0.0 1.0 1.0 0.0 0.0 0.0]\n",
      " [11116 0.0 1.0 1.0 1.0 0.0 1.0 0.0 0.0 0.0]\n",
      " [11117 1.0 1.0 0.0 0.0 1.0 0.0 1.0 0.0 1.0]\n",
      " [11118 0.0 1.0 0.0 1.0 0.0 1.0 1.0 1.0 0.0]\n",
      " [11119 1.0 1.0 0.0 1.0 0.0 1.0 0.0 1.0 0.0]]\n",
      "(9, 10)\n"
     ]
    }
   ],
   "source": [
    "vol_Array=np.asarray(vol_tuple)\n",
    "print(vol_Array)\n",
    "print(vol_Array.shape)"
   ]
  },
  {
   "cell_type": "markdown",
   "metadata": {},
   "source": [
    "# Student Jaccard Array"
   ]
  },
  {
   "cell_type": "code",
   "execution_count": 55,
   "metadata": {},
   "outputs": [],
   "source": [
    "Stu_tuple= []\n",
    "for i in range (len(df_st_mat)):\n",
    "    Stu_tuple.append(df_st_mat.loc[i][1:])"
   ]
  },
  {
   "cell_type": "code",
   "execution_count": 56,
   "metadata": {},
   "outputs": [
    {
     "name": "stdout",
     "output_type": "stream",
     "text": [
      "[[1 0.0 0.0 1.0 0.0 1.0 0.0 0.0 0.0 0.0]\n",
      " [2 0.0 1.0 0.0 1.0 0.0 0.0 1.0 0.0 0.0]\n",
      " [3 1.0 0.0 0.0 0.0 1.0 1.0 0.0 0.0 0.0]\n",
      " [4 0.0 1.0 1.0 0.0 0.0 0.0 0.0 0.0 1.0]\n",
      " [5 1.0 0.0 0.0 0.0 0.0 0.0 0.0 1.0 0.0]\n",
      " [6 0.0 0.0 1.0 0.0 0.0 1.0 0.0 0.0 0.0]\n",
      " [7 0.0 0.0 0.0 0.0 1.0 0.0 0.0 0.0 1.0]\n",
      " [8 0.0 1.0 0.0 1.0 0.0 0.0 0.0 0.0 0.0]\n",
      " [9 1.0 1.0 0.0 1.0 0.0 1.0 0.0 1.0 0.0]\n",
      " [10 0.0 0.0 0.0 0.0 1.0 0.0 1.0 0.0 1.0]\n",
      " [11 1.0 0.0 0.0 0.0 0.0 0.0 0.0 0.0 0.0]\n",
      " [12 0.0 0.0 0.0 0.0 1.0 0.0 0.0 1.0 0.0]\n",
      " [13 0.0 1.0 1.0 0.0 0.0 1.0 0.0 0.0 0.0]\n",
      " [14 0.0 0.0 0.0 0.0 1.0 0.0 0.0 0.0 1.0]\n",
      " [15 1.0 0.0 0.0 0.0 0.0 0.0 0.0 0.0 0.0]\n",
      " [16 0.0 1.0 0.0 1.0 0.0 0.0 0.0 0.0 0.0]\n",
      " [17 0.0 1.0 0.0 0.0 0.0 0.0 1.0 0.0 1.0]\n",
      " [18 1.0 0.0 1.0 0.0 0.0 0.0 0.0 1.0 0.0]\n",
      " [19 0.0 0.0 0.0 1.0 0.0 1.0 0.0 0.0 0.0]]\n",
      "(19, 10)\n"
     ]
    }
   ],
   "source": [
    "stu_Array= np.asarray(Stu_tuple)\n",
    "print(stu_Array)\n",
    "print(stu_Array.shape)"
   ]
  },
  {
   "cell_type": "markdown",
   "metadata": {},
   "source": [
    "# student Data"
   ]
  },
  {
   "cell_type": "code",
   "execution_count": 62,
   "metadata": {},
   "outputs": [
    {
     "name": "stdout",
     "output_type": "stream",
     "text": [
      "[['Adam Ababneh', 1, 0.0, 0.0, 1.0, 0.0, 1.0, 0.0, 0.0, 0.0, 0.0], ['Akhil Modali', 2, 0.0, 1.0, 0.0, 1.0, 0.0, 0.0, 1.0, 0.0, 0.0], ['Alejandra Magana', 3, 1.0, 0.0, 0.0, 0.0, 1.0, 1.0, 0.0, 0.0, 0.0], ['Alexandra Reyes', 4, 0.0, 1.0, 1.0, 0.0, 0.0, 0.0, 0.0, 0.0, 1.0], ['Angeles Chavez', 5, 1.0, 0.0, 0.0, 0.0, 0.0, 0.0, 0.0, 1.0, 0.0], ['Anna Terzian', 6, 0.0, 0.0, 1.0, 0.0, 0.0, 1.0, 0.0, 0.0, 0.0], ['Cameryn Newman', 7, 0.0, 0.0, 0.0, 0.0, 1.0, 0.0, 0.0, 0.0, 1.0], ['Daniella Medina', 8, 0.0, 1.0, 0.0, 1.0, 0.0, 0.0, 0.0, 0.0, 0.0], ['David Oguns', 9, 1.0, 1.0, 0.0, 1.0, 0.0, 1.0, 0.0, 1.0, 0.0], ['Devon Devera', 10, 0.0, 0.0, 0.0, 0.0, 1.0, 0.0, 1.0, 0.0, 1.0], ['Dominic Perez', 11, 1.0, 0.0, 0.0, 0.0, 0.0, 0.0, 0.0, 0.0, 0.0], ['Elisa Hong', 12, 0.0, 0.0, 0.0, 0.0, 1.0, 0.0, 0.0, 1.0, 0.0], ['Erik Mariscal Ventura', 13, 0.0, 1.0, 1.0, 0.0, 0.0, 1.0, 0.0, 0.0, 0.0], ['Esther M Roldan Cervantes', 14, 0.0, 0.0, 0.0, 0.0, 1.0, 0.0, 0.0, 0.0, 1.0], ['Evan Pace', 15, 1.0, 0.0, 0.0, 0.0, 0.0, 0.0, 0.0, 0.0, 0.0], ['Francisco Sanchez Rodriguez', 16, 0.0, 1.0, 0.0, 1.0, 0.0, 0.0, 0.0, 0.0, 0.0], ['Hafsa Razzack', 17, 0.0, 1.0, 0.0, 0.0, 0.0, 0.0, 1.0, 0.0, 1.0], ['Hung Luu', 18, 1.0, 0.0, 1.0, 0.0, 0.0, 0.0, 0.0, 1.0, 0.0], ['Jacqueline Quintana', 19, 0.0, 0.0, 0.0, 1.0, 0.0, 1.0, 0.0, 0.0, 0.0]]\n"
     ]
    }
   ],
   "source": [
    "stu_list = df_st_mat.values.tolist()\n",
    "print(stu_list)"
   ]
  },
  {
   "cell_type": "markdown",
   "metadata": {},
   "source": [
    "# Volunteer Data"
   ]
  },
  {
   "cell_type": "code",
   "execution_count": 63,
   "metadata": {},
   "outputs": [
    {
     "name": "stdout",
     "output_type": "stream",
     "text": [
      "[['Jiaxian Cai', 11111, 1.0, 0.0, 1.0, 0.0, 1.0, 0.0, 0.0, 1.0, 0.0], ['Kevin Orlando Rodezno Polanco', 11112, 0.0, 1.0, 1.0, 1.0, 0.0, 0.0, 0.0, 0.0, 0.0], ['Allison Meyers', 11113, 0.0, 1.0, 1.0, 0.0, 1.0, 0.0, 0.0, 0.0, 0.0], ['Suzette Sandoval', 11114, 0.0, 0.0, 1.0, 1.0, 0.0, 1.0, 1.0, 0.0, 0.0], ['Dionne Gayle', 11115, 1.0, 0.0, 1.0, 0.0, 1.0, 1.0, 0.0, 0.0, 0.0], ['Daman Ahluwalia', 11116, 0.0, 1.0, 1.0, 1.0, 0.0, 1.0, 0.0, 0.0, 0.0], ['Meredith Curry', 11117, 1.0, 1.0, 0.0, 0.0, 1.0, 0.0, 1.0, 0.0, 1.0], ['Charles Anderson', 11118, 0.0, 1.0, 0.0, 1.0, 0.0, 1.0, 1.0, 1.0, 0.0], ['Lauren Koehler', 11119, 1.0, 1.0, 0.0, 1.0, 0.0, 1.0, 0.0, 1.0, 0.0]]\n"
     ]
    }
   ],
   "source": [
    "vol_list = df_vol_mat.values.tolist()\n",
    "print(vol_list)"
   ]
  },
  {
   "cell_type": "code",
   "execution_count": 64,
   "metadata": {},
   "outputs": [],
   "source": [
    "#backup loop\n",
    "# vol_s =[]\n",
    "# vol_sim={}\n",
    "# stu_s =[]\n",
    "# stu_sim={}\n",
    "# for i in vol_list:\n",
    "#     v1= i\n",
    "#     vol_s.append(v1[0:2])\n",
    "# #     viarr = int(v1[1:])\n",
    "#     print(v1[1:])\n",
    "#     sumxx,sumyy,sumxy =0,0,0\n",
    "# #     print(vol_s[0][1])\n",
    "# #     print(vol_s)\n",
    "#     for j in stu_list:\n",
    "#         v2=j\n",
    "#         print (v2[1:])\n",
    "#         stu_s.append(v2[0:2])\n",
    "#         #cosine\n",
    "# #         x=v1[2:]\n",
    "# #         y=v2[2:]\n",
    "# #         sumxx += x*x\n",
    "# #         sumyy += y*y\n",
    "# #         sumxy += x+y\n",
    "# #         print(sumxy/math.sqrt(sumxx*sumyy))\n",
    "# #         print(viarr)\n",
    "        \n",
    "        \n",
    "#         break\n",
    "        \n",
    "#     break"
   ]
  },
  {
   "cell_type": "markdown",
   "metadata": {},
   "source": [
    "# Finding Similarities and mapping with volunteer to all the students Volunteer to student confidence calculation"
   ]
  },
  {
   "cell_type": "code",
   "execution_count": 65,
   "metadata": {},
   "outputs": [
    {
     "name": "stdout",
     "output_type": "stream",
     "text": [
      "[(11111, [(19, 0.8690120432085381), (18, 0.8686456237482638), (17, 0.8684027197025109), (16, 0.8681032925788867), (15, 0.8673934439579551), (14, 0.8660380091078482), (13, 0.8646827281321762), (12, 0.8634894443134268), (11, 0.861161600578179), (10, 0.8568851222325842), (9, 0.8533389453903181), (8, 0.8523438665480237), (7, 0.8446401884579444), (6, 0.8327327016560991), (5, 0.8135233705293939), (4, 0.7809039362399531), (3, 0.7385932472904329), (2, 0.6708606320078686), (1, 0.577454183922376)]), (11112, [(19, 0.869010399551025), (18, 0.8686433407028205), (17, 0.8684011900574604), (16, 0.8681009974567915), (15, 0.8673895435134834), (14, 0.8660343002411146), (13, 0.8646793100096144), (12, 0.8634844652824079), (11, 0.8611580801044366), (10, 0.8568823201187701), (9, 0.8533372406549892), (8, 0.8523417376348326), (7, 0.8446320458242016), (6, 0.8327255655680145), (5, 0.8135136096616382), (4, 0.7809039362420875), (3, 0.7385821689476596), (2, 0.6708807541059119), (1, 0.5774022195429488)]), (11113, [(19, 0.8690108104865083), (18, 0.8686442542448477), (17, 0.8684022108357206), (16, 0.8681021454863048), (15, 0.8673914940901688), (14, 0.8660365259854436), (13, 0.8646810191318299), (12, 0.8634864566826127), (11, 0.8611592531405876), (10, 0.8568837207688277), (9, 0.8533372391212625), (8, 0.8523438665524498), (7, 0.8446374731102461), (6, 0.8327291317687122), (5, 0.8135184875731686), (4, 0.7809109597067401), (3, 0.7385932423099727), (2, 0.6708807486750915), (1, 0.5774541675604813)]), (11114, [(19, 0.8690108063041841), (18, 0.8686433358742195), (17, 0.8684011851673158), (16, 0.8681009924994245), (15, 0.8673901889686982), (14, 0.8660350372509731), (13, 0.8646801596116325), (12, 0.8634854560558831), (11, 0.86115924849454), (10, 0.8568837159145954), (9, 0.8533372341335922), (8, 0.8523417311210433), (7, 0.8446347536085662), (6, 0.8327291261523977), (5, 0.8135136019808288), (4, 0.7809039267615971), (3, 0.7385932353353893), (2, 0.6708807405295938), (1, 0.5774022078583146)]), (11115, [(19, 0.8690124515969476), (18, 0.8686456203033082), (17, 0.8684032270446442), (16, 0.8681038631399673), (15, 0.8673940900627174), (14, 0.8660387466243271), (13, 0.8646835780861516), (12, 0.8634894389452116), (11, 0.8611627689740056), (10, 0.8568865178448938), (9, 0.8533406446874969), (8, 0.8523459897226763), (7, 0.8446428935612051), (6, 0.8327362588748107), (5, 0.8135233582431017), (4, 0.7809109489635769), (3, 0.7386043057097921), (2, 0.6708606175308941), (1, 0.5774541465295269)]), (11116, [(19, 0.8690124507850884), (18, 0.8686451624666713), (17, 0.8684032261743615), (16, 0.868103287940302), (15, 0.8673921382031332), (14, 0.8660372614632502), (13, 0.8646827219902178), (12, 0.8634874458466738), (11, 0.8611615937240802), (10, 0.8568865162081714), (9, 0.8533423487380187), (8, 0.8523459878089424), (7, 0.844637463837538), (6, 0.8327326888263191), (5, 0.8135184763843548), (4, 0.7809109451738254), (3, 0.7385932273689443), (2, 0.6708807296738151), (1, 0.577402198515148)]), (11117, [(19, 0.8690145035332886), (18, 0.8686483566755319), (17, 0.868406795634819), (16, 0.8681061543458166), (15, 0.8673960349107559), (14, 0.8660409664654464), (13, 0.8646852814067897), (12, 0.863492420135997), (11, 0.8611662835436187), (10, 0.8568907153211408), (9, 0.8533423432932937), (8, 0.8523481121301897), (7, 0.8446428852665362), (6, 0.832732682892752), (5, 0.8135282271616671), (4, 0.7809179623217877), (3, 0.7386042927642724), (2, 0.6708807215332012), (1, 0.577402191508823)]), (11118, [(19, 0.8690132684029329), (18, 0.8686460711011378), (17, 0.8684042419280019), (16, 0.8681038566918942), (15, 0.8673927829612531), (14, 0.8660379976771345), (13, 0.8646835706746623), (12, 0.8634894314287831), (11, 0.8611627610636242), (10, 0.8568879107488406), (9, 0.853342341301924), (8, 0.8523438510433526), (7, 0.8446347433665009), (6, 0.8327291138084268), (5, 0.8135184678325968), (4, 0.7809039109730008), (3, 0.7385932164177679), (2, 0.6708807161082406), (1, 0.5773502575127669)]), (11119, [(19, 0.869014501541553), (18, 0.8686474407577515), (17, 0.868405261881582), (16, 0.8681055779110722), (15, 0.8673947321946451), (14, 0.8660394801076827), (13, 0.8646852784920331), (12, 0.86349142130837), (11, 0.8611651065037108), (10, 0.8568893101408953), (9, 0.8533457501698772), (8, 0.8523459786227001), (7, 0.8446374545716763), (6, 0.8327326777662036), (5, 0.8135233426755502), (4, 0.780903907817525), (3, 0.7385932124375895), (2, 0.6708606003512014), (1, 0.5773502575148671)])]\n"
     ]
    }
   ],
   "source": [
    "vol_stu_list=[]\n",
    "for i in vol_Array:\n",
    "    tupList=[]\n",
    "    vol_stu_List = []\n",
    "    sim=0\n",
    "    v1=i\n",
    "#     print(\"1 is here\")\n",
    "    sumxx,sumyy,sumxy =0,0,0\n",
    "    for j in stu_Array:\n",
    "#         print(\"2 is here\")\n",
    "        v2=j\n",
    "        \n",
    "        k=0\n",
    "        \n",
    "        for k in range(len(v1)):\n",
    "#             print(\"3 is here\")\n",
    "            x=v1[k]\n",
    "            y=v2[k]\n",
    "#             print(v2)\n",
    "            sumxx += x*x\n",
    "            sumyy += y*y\n",
    "            sumxy += x*y\n",
    "            sim = sumxy/math.sqrt(sumxx*sumyy)\n",
    "#         print(\"4 is here\")\n",
    "        tupList.append((v2[0],sim))\n",
    "#     print(tupList)\n",
    "    sortby = sorted(tupList, key= lambda tup: tup[1],reverse=True)\n",
    "#     print(len(sortby))\n",
    "#     print(v1)\n",
    "#     print(sortby[:3])\n",
    "#     print(\"here\" , v1[0])\n",
    "    temp = sortby\n",
    "#     print(temp,'temp')\n",
    "#     print(v1[0])\n",
    "    vol_stu_list.append((v1[0],temp))\n",
    "#     print(list(vol_stu_list))\n",
    "#     break\n",
    "# print(vol_stu_list)\n",
    "   \n",
    "    \n",
    "# print(len(vol_stu_list))\n",
    "    \n",
    "    \n",
    "        \n",
    "#         sortby = tupList.sort(key = lambda tup: tup[0])\n",
    "#         for q in tupList:\n",
    "#             print(q)\n",
    "    \n",
    "#         print(tupList)\n",
    "        #2nd for end\n",
    "        \n",
    "\n",
    "#     break\n",
    "# print(vol_stu_list)\n",
    "# p=0\n",
    "# for l in (vol_stu_list):\n",
    "# #     print(vol_stu_list)\n",
    "# #     print(p,\"p\")\n",
    "#     print(vol_stu_list[p][0][0], vol_stu_list[p][1])\n",
    "#     p=p+1\n",
    "\n",
    "# list(map(lambda x:print(x),vol_stu_map))\n",
    "\n",
    "print((vol_stu_list))\n",
    "# print(dir(vol_stu_list))\n",
    "# list_vol = list(vol_stu_list)\n"
   ]
  },
  {
   "cell_type": "code",
   "execution_count": 68,
   "metadata": {},
   "outputs": [
    {
     "name": "stdout",
     "output_type": "stream",
     "text": [
      "Volunteer count 9\n",
      "Student Count 19\n"
     ]
    }
   ],
   "source": [
    "# print((vol_stu_list))\n",
    "print(\"Volunteer count\",len(vol_stu_list))\n",
    "print(\"Student Count\",len(vol_stu_list[0][1]))"
   ]
  },
  {
   "cell_type": "markdown",
   "metadata": {},
   "source": [
    "# Mapping for reccomendation"
   ]
  },
  {
   "cell_type": "code",
   "execution_count": 69,
   "metadata": {},
   "outputs": [
    {
     "name": "stdout",
     "output_type": "stream",
     "text": [
      "19\n"
     ]
    }
   ],
   "source": [
    "selectedVal=[]\n",
    "mapList=[]\n",
    "p=0\n",
    "size = len(vol_stu_list)\n",
    "print(len(vol_stu_list[0][1]))\n",
    "p=0\n",
    "for q in range(len(vol_stu_list[0][1])):\n",
    "    comst=[]\n",
    "    for e in vol_stu_list:\n",
    "        comst.append((e[0],e[1][p][0],e[1][p][1]))\n",
    "    comstsort = sorted(comst, key= lambda tup: tup[2],reverse=True)\n",
    "    mapList.append((comstsort[0:2])) # [0:3] will take top three neighbours\n",
    "    p=p+1"
   ]
  },
  {
   "cell_type": "code",
   "execution_count": 70,
   "metadata": {},
   "outputs": [
    {
     "name": "stdout",
     "output_type": "stream",
     "text": [
      "[[(11117, 19, 0.8690145035332886), (11119, 19, 0.869014501541553)], [(11117, 18, 0.8686483566755319), (11119, 18, 0.8686474407577515)], [(11117, 17, 0.868406795634819), (11119, 17, 0.868405261881582)], [(11117, 16, 0.8681061543458166), (11119, 16, 0.8681055779110722)], [(11117, 15, 0.8673960349107559), (11119, 15, 0.8673947321946451)], [(11117, 14, 0.8660409664654464), (11119, 14, 0.8660394801076827)], [(11117, 13, 0.8646852814067897), (11119, 13, 0.8646852784920331)], [(11117, 12, 0.863492420135997), (11119, 12, 0.86349142130837)], [(11117, 11, 0.8611662835436187), (11119, 11, 0.8611651065037108)], [(11117, 10, 0.8568907153211408), (11119, 10, 0.8568893101408953)], [(11119, 9, 0.8533457501698772), (11116, 9, 0.8533423487380187)], [(11117, 8, 0.8523481121301897), (11115, 8, 0.8523459897226763)], [(11115, 7, 0.8446428935612051), (11117, 7, 0.8446428852665362)], [(11115, 6, 0.8327362588748107), (11111, 6, 0.8327327016560991)], [(11117, 5, 0.8135282271616671), (11111, 5, 0.8135233705293939)], [(11117, 4, 0.7809179623217877), (11113, 4, 0.7809109597067401)], [(11115, 3, 0.7386043057097921), (11117, 3, 0.7386042927642724)], [(11112, 2, 0.6708807541059119), (11113, 2, 0.6708807486750915)], [(11111, 1, 0.577454183922376), (11113, 1, 0.5774541675604813)]]\n"
     ]
    }
   ],
   "source": [
    "print(mapList)"
   ]
  },
  {
   "cell_type": "code",
   "execution_count": null,
   "metadata": {},
   "outputs": [],
   "source": []
  }
 ],
 "metadata": {
  "kernelspec": {
   "display_name": "Python 3",
   "language": "python",
   "name": "python3"
  },
  "language_info": {
   "codemirror_mode": {
    "name": "ipython",
    "version": 3
   },
   "file_extension": ".py",
   "mimetype": "text/x-python",
   "name": "python",
   "nbconvert_exporter": "python",
   "pygments_lexer": "ipython3",
   "version": "3.7.3"
  }
 },
 "nbformat": 4,
 "nbformat_minor": 2
}
